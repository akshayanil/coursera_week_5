{
  "nbformat": 4,
  "nbformat_minor": 0,
  "metadata": {
    "colab": {
      "provenance": []
    },
    "kernelspec": {
      "name": "python3",
      "display_name": "Python 3"
    },
    "language_info": {
      "name": "python"
    }
  },
  "cells": [
    {
      "cell_type": "markdown",
      "source": [
        "# **Data Science Tools and Ecosystem**"
      ],
      "metadata": {
        "id": "Vii-NO8iH90h"
      }
    },
    {
      "cell_type": "markdown",
      "source": [
        "In this notebook, Data Science Tools and Ecosystem are summarized."
      ],
      "metadata": {
        "id": "MeMbQHqnJYCD"
      }
    },
    {
      "cell_type": "code",
      "source": [],
      "metadata": {
        "id": "7zqVYVruHuTa"
      },
      "execution_count": null,
      "outputs": []
    },
    {
      "cell_type": "markdown",
      "source": [
        "Some of the popular languages that Data Scientists use are:<ol>\n",
        "   <li>Python</li>\n",
        "   <li>Scala</li>\n",
        "   <li>R</li>\n",
        "</ol>\n"
      ],
      "metadata": {
        "id": "5_3BFp41KO8f"
      }
    },
    {
      "cell_type": "code",
      "source": [],
      "metadata": {
        "id": "YLh6NwzLIozz"
      },
      "execution_count": null,
      "outputs": []
    },
    {
      "cell_type": "markdown",
      "source": [
        "Some of the commonly used libraries used by Data Scientists include:\n",
        "<ol>\n",
        "   <li>Pandas</li>\n",
        "   <li>scikit</li>\n",
        "   <li>Matplotlib</li>\n",
        "</ol>\n"
      ],
      "metadata": {
        "id": "osnkOtv1LBYY"
      }
    },
    {
      "cell_type": "code",
      "source": [],
      "metadata": {
        "id": "viVX8tUYLQb4"
      },
      "execution_count": null,
      "outputs": []
    },
    {
      "cell_type": "markdown",
      "source": [
        "<table>\n",
        " <tr>\n",
        "   <th><h3> Data Science Tools</h3></th>\n",
        " </tr>\n",
        " <tr>\n",
        "      <td>Pytorch</td>\n",
        "  </tr>\n",
        "  <tr>\n",
        "      <td>Tensorflow</td>\n",
        "  </tr>\n",
        "  <tr>\n",
        "      <td>NLTK</td>\n",
        "  </tr>\n",
        "\n",
        "</table>"
      ],
      "metadata": {
        "id": "aifuPWfCLx9c"
      }
    },
    {
      "cell_type": "markdown",
      "source": [
        "<h3>Below are a few examples of evaluating arithmetic expressions in Python</h3>\n"
      ],
      "metadata": {
        "id": "2OuGgEj_M_5z"
      }
    },
    {
      "cell_type": "code",
      "source": [
        "#This a simple arithmetic expression to mutiply then add integers\n",
        "(3*4)+5"
      ],
      "metadata": {
        "colab": {
          "base_uri": "https://localhost:8080/"
        },
        "id": "CbQJh3SsNLly",
        "outputId": "d3a549cc-ebce-4999-e21b-e4c144a7f723"
      },
      "execution_count": 4,
      "outputs": [
        {
          "output_type": "execute_result",
          "data": {
            "text/plain": [
              "17"
            ]
          },
          "metadata": {},
          "execution_count": 4
        }
      ]
    },
    {
      "cell_type": "code",
      "source": [
        "#This will convert 200 minutes to hours by diving by 60\n",
        "hr=200/60\n",
        "hr"
      ],
      "metadata": {
        "colab": {
          "base_uri": "https://localhost:8080/"
        },
        "id": "iIsRbFxUXqM5",
        "outputId": "f34eeca2-3ec1-4aa0-c5f6-175fb98690fe"
      },
      "execution_count": 5,
      "outputs": [
        {
          "output_type": "execute_result",
          "data": {
            "text/plain": [
              "3.3333333333333335"
            ]
          },
          "metadata": {},
          "execution_count": 5
        }
      ]
    },
    {
      "cell_type": "markdown",
      "source": [
        "**Objectives:**\n",
        "<ol>\n",
        "   <li>Popular langauge</li>\n",
        "   <li>Libraries used by Data Scientist</li>\n",
        "   <li>Data science tools</li>\n",
        "</ol>\n"
      ],
      "metadata": {
        "id": "anqcqwMpYSRo"
      }
    },
    {
      "cell_type": "markdown",
      "source": [
        "<h2>Author</h2>\n",
        "<h6>Akshay</H6>"
      ],
      "metadata": {
        "id": "cjQGqEgAY3aG"
      }
    }
  ]
}